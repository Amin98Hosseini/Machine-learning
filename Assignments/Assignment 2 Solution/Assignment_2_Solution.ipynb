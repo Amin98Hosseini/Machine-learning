{
  "nbformat": 4,
  "nbformat_minor": 0,
  "metadata": {
    "colab": {
      "provenance": [],
      "gpuType": "T4"
    },
    "kernelspec": {
      "name": "python3",
      "display_name": "Python 3"
    },
    "language_info": {
      "name": "python"
    },
    "accelerator": "GPU"
  },
  "cells": [
    {
      "cell_type": "code",
      "execution_count": 1,
      "metadata": {
        "id": "nPtRl82bzmS8"
      },
      "outputs": [],
      "source": [
        "import torch\n",
        "import torchvision\n",
        "import torchvision.datasets as datasets\n",
        "import torchvision.transforms as transforms\n",
        "import torch.nn as nn\n",
        "import torch.nn.functional as F\n",
        "import torch.optim as optim\n",
        "import matplotlib\n",
        "import matplotlib.pyplot as plt\n",
        "import numpy as np\n",
        "import pandas as pd\n",
        "import random\n",
        "import math\n",
        "from torch.utils.data.sampler import SubsetRandomSampler"
      ]
    },
    {
      "cell_type": "code",
      "source": [
        "normalize = transforms.Normalize(mean=[x/255.0 for x in [125.3, 123.0, 113.9]], std=[x/255.0 for x in [63.0, 62.1, 66.7]])\n",
        "transform = transforms.Compose([transforms.ToTensor(), transforms.Normalize((0.1307,), (0.3081,))])\n",
        "\n",
        "fashion_trainset = datasets.FashionMNIST(root='./fmnist/', train=True, download=True, transform=transform)"
      ],
      "metadata": {
        "colab": {
          "base_uri": "https://localhost:8080/"
        },
        "id": "v1C8Rr8r0S0d",
        "outputId": "9cfa2dca-d92d-4619-d289-c18c079be033"
      },
      "execution_count": 3,
      "outputs": [
        {
          "output_type": "stream",
          "name": "stdout",
          "text": [
            "Downloading http://fashion-mnist.s3-website.eu-central-1.amazonaws.com/train-images-idx3-ubyte.gz\n",
            "Downloading http://fashion-mnist.s3-website.eu-central-1.amazonaws.com/train-images-idx3-ubyte.gz to ./fmnist/FashionMNIST/raw/train-images-idx3-ubyte.gz\n"
          ]
        },
        {
          "output_type": "stream",
          "name": "stderr",
          "text": [
            "100%|██████████| 26421880/26421880 [00:02<00:00, 12355072.98it/s]\n"
          ]
        },
        {
          "output_type": "stream",
          "name": "stdout",
          "text": [
            "Extracting ./fmnist/FashionMNIST/raw/train-images-idx3-ubyte.gz to ./fmnist/FashionMNIST/raw\n",
            "\n",
            "Downloading http://fashion-mnist.s3-website.eu-central-1.amazonaws.com/train-labels-idx1-ubyte.gz\n",
            "Downloading http://fashion-mnist.s3-website.eu-central-1.amazonaws.com/train-labels-idx1-ubyte.gz to ./fmnist/FashionMNIST/raw/train-labels-idx1-ubyte.gz\n"
          ]
        },
        {
          "output_type": "stream",
          "name": "stderr",
          "text": [
            "100%|██████████| 29515/29515 [00:00<00:00, 209521.76it/s]\n"
          ]
        },
        {
          "output_type": "stream",
          "name": "stdout",
          "text": [
            "Extracting ./fmnist/FashionMNIST/raw/train-labels-idx1-ubyte.gz to ./fmnist/FashionMNIST/raw\n",
            "\n",
            "Downloading http://fashion-mnist.s3-website.eu-central-1.amazonaws.com/t10k-images-idx3-ubyte.gz\n",
            "Downloading http://fashion-mnist.s3-website.eu-central-1.amazonaws.com/t10k-images-idx3-ubyte.gz to ./fmnist/FashionMNIST/raw/t10k-images-idx3-ubyte.gz\n"
          ]
        },
        {
          "output_type": "stream",
          "name": "stderr",
          "text": [
            "100%|██████████| 4422102/4422102 [00:01<00:00, 3904927.47it/s]\n"
          ]
        },
        {
          "output_type": "stream",
          "name": "stdout",
          "text": [
            "Extracting ./fmnist/FashionMNIST/raw/t10k-images-idx3-ubyte.gz to ./fmnist/FashionMNIST/raw\n",
            "\n",
            "Downloading http://fashion-mnist.s3-website.eu-central-1.amazonaws.com/t10k-labels-idx1-ubyte.gz\n",
            "Downloading http://fashion-mnist.s3-website.eu-central-1.amazonaws.com/t10k-labels-idx1-ubyte.gz to ./fmnist/FashionMNIST/raw/t10k-labels-idx1-ubyte.gz\n"
          ]
        },
        {
          "output_type": "stream",
          "name": "stderr",
          "text": [
            "100%|██████████| 5148/5148 [00:00<00:00, 15795374.54it/s]"
          ]
        },
        {
          "output_type": "stream",
          "name": "stdout",
          "text": [
            "Extracting ./fmnist/FashionMNIST/raw/t10k-labels-idx1-ubyte.gz to ./fmnist/FashionMNIST/raw\n",
            "\n"
          ]
        },
        {
          "output_type": "stream",
          "name": "stderr",
          "text": [
            "\n"
          ]
        }
      ]
    },
    {
      "cell_type": "code",
      "source": [
        "labels_map = ('T-Shirt', 'Trouser', 'Pullover', 'Dress', 'Coat', 'Sandal', 'Shirt','Sneaker', 'Bag', 'Ankle Boot')\n",
        "fig = plt.figure(figsize=(10, 10))\n",
        "columns = 4\n",
        "rows = 5\n",
        "for i in range(1, 10):\n",
        "  fig.add_subplot(rows, columns, i)\n",
        "  fig.tight_layout()\n",
        "  plt.imshow(fashion_trainset.train_data[i-1].numpy(), cmap='gray')\n",
        "  plt.title(f'Training Label: {labels_map[fashion_trainset.train_labels[i-1]]}')\n",
        "plt.show()"
      ],
      "metadata": {
        "colab": {
          "base_uri": "https://localhost:8080/",
          "height": 552
        },
        "id": "m7zoPsbX1NP2",
        "outputId": "bc0ec406-d49d-4b29-d55c-8abb2596c355"
      },
      "execution_count": 6,
      "outputs": [
        {
          "output_type": "display_data",
          "data": {
            "text/plain": [
              "<Figure size 1000x1000 with 9 Axes>"
            ],
            "image/png": "[encoded data removed]"
          },
          "metadata": {}
        }
      ]
    },
    {
      "cell_type": "code",
      "source": [
        "class MLP(nn.Module):\n",
        "  def __init__(self):\n",
        "    super(MLP, self).__init__()\n",
        "    self.fc1 = nn.Linear(28*28, 512)\n",
        "    self.fc2 = nn.Linear(512, 256)\n",
        "    self.fc3 = nn.Linear(256, 64)\n",
        "    self.fc4 = nn.Linear(64, 32)\n",
        "    self.fc5 = nn.Linear(32, 10)\n",
        "\n",
        "  def forward(self, x):\n",
        "    x = x.view(-1, 28*28)\n",
        "    x = F.relu(self.fc1(x))\n",
        "    x = F.relu(self.fc2(x))\n",
        "    x = F.relu(self.fc3(x))\n",
        "    x = F.relu(self.fc4(x))\n",
        "    x = self.fc5(x)\n",
        "    return x"
      ],
      "metadata": {
        "id": "61a3ZkaI13hU"
      },
      "execution_count": 22,
      "outputs": []
    },
    {
      "cell_type": "code",
      "source": [
        "MLP_network = MLP()"
      ],
      "metadata": {
        "id": "oHoGerI25JJ4"
      },
      "execution_count": 23,
      "outputs": []
    },
    {
      "cell_type": "code",
      "source": [
        "MLP_network"
      ],
      "metadata": {
        "colab": {
          "base_uri": "https://localhost:8080/"
        },
        "id": "5u52U0_a5Lu7",
        "outputId": "8612f10d-bdee-469e-fb5c-d9f70ca16249"
      },
      "execution_count": 24,
      "outputs": [
        {
          "output_type": "execute_result",
          "data": {
            "text/plain": [
              "MLP(\n",
              "  (fc1): Linear(in_features=784, out_features=512, bias=True)\n",
              "  (fc2): Linear(in_features=512, out_features=256, bias=True)\n",
              "  (fc3): Linear(in_features=256, out_features=64, bias=True)\n",
              "  (fc4): Linear(in_features=64, out_features=32, bias=True)\n",
              "  (fc5): Linear(in_features=32, out_features=10, bias=True)\n",
              ")"
            ]
          },
          "metadata": {},
          "execution_count": 24
        }
      ]
    },
    {
      "cell_type": "code",
      "source": [
        "criterion = nn.CrossEntropyLoss()\n",
        "optimizer = optim.Adam(MLP_network.parameters(), lr=0.001, betas=(0.9, 0.99), eps=1e-08, weight_decay=0.001)"
      ],
      "metadata": {
        "id": "w9xXXxez5Mzd"
      },
      "execution_count": 25,
      "outputs": []
    },
    {
      "cell_type": "code",
      "source": [
        "num_train = len(fashion_trainset)\n",
        "indices = list(range(num_train))\n",
        "\n",
        "split = 54000\n",
        "\n",
        "train_idx = np.random.choice(indices, size=split, replace=False)\n",
        "validation_idx = list(set(indices) - set(train_idx))\n",
        "\n",
        "train_sampler = SubsetRandomSampler(train_idx)\n",
        "validation_sampler = SubsetRandomSampler(validation_idx)\n",
        "\n",
        "train_loader1 = torch.utils.data.DataLoader(fashion_trainset, batch_size=16, sampler=train_sampler)\n",
        "validation_loader1 = torch.utils.data.DataLoader(fashion_trainset, batch_size=16, sampler=validation_sampler)"
      ],
      "metadata": {
        "id": "m_W9ryON5mo5"
      },
      "execution_count": 26,
      "outputs": []
    },
    {
      "cell_type": "code",
      "source": [
        "num_epochs = 20\n",
        "total_step = len(train_loader1)\n",
        "loss_f1 = []\n",
        "print('-'*20)\n",
        "\n",
        "for epoch in range(num_epochs):\n",
        "  running_loss = 0.0\n",
        "  for i, data in enumerate(train_loader1, 0):\n",
        "    inputs, labels = data\n",
        "    optimizer.zero_grad()\n",
        "    outputs = MLP_network(inputs)\n",
        "    loss = criterion(outputs, labels)\n",
        "    loss.backward()\n",
        "    optimizer.step()\n",
        "\n",
        "    running_loss += loss.item()\n",
        "\n",
        "  print(f\"Epoch: {epoch + 1} | Loss: {running_loss/total_step}\")\n",
        "\n",
        "  loss_f1.append(running_loss / total_step)\n",
        "\n",
        "print('Finished Training')\n"
      ],
      "metadata": {
        "colab": {
          "base_uri": "https://localhost:8080/"
        },
        "id": "FiBf87Fc6ZzD",
        "outputId": "be5a7519-db8d-41c4-d8b6-1a27fd988251"
      },
      "execution_count": 27,
      "outputs": [
        {
          "output_type": "stream",
          "name": "stdout",
          "text": [
            "--------------------\n",
            "Epoch: 1 | Loss: 0.530609313297051\n",
            "Epoch: 2 | Loss: 0.4179582989789821\n",
            "Epoch: 3 | Loss: 0.3851526829699675\n",
            "Epoch: 4 | Loss: 0.3708054230952704\n",
            "Epoch: 5 | Loss: 0.3637670783210132\n",
            "Epoch: 6 | Loss: 0.35516652948740457\n",
            "Epoch: 7 | Loss: 0.3507578623013364\n",
            "Epoch: 8 | Loss: 0.34375882535013885\n",
            "Epoch: 9 | Loss: 0.3429822639649113\n",
            "Epoch: 10 | Loss: 0.33842035739786097\n",
            "Epoch: 11 | Loss: 0.33700187152596534\n",
            "Epoch: 12 | Loss: 0.33596292590349913\n",
            "Epoch: 13 | Loss: 0.33221018779498557\n",
            "Epoch: 14 | Loss: 0.3299353667318269\n",
            "Epoch: 15 | Loss: 0.3290935681484364\n",
            "Epoch: 16 | Loss: 0.32733680591897835\n",
            "Epoch: 17 | Loss: 0.32800990520969586\n",
            "Epoch: 18 | Loss: 0.3272973863692195\n",
            "Epoch: 19 | Loss: 0.32619865903617057\n",
            "Epoch: 20 | Loss: 0.32566454641686543\n",
            "Finished Training\n"
          ]
        }
      ]
    },
    {
      "cell_type": "code",
      "source": [
        "correct = 0\n",
        "total = 0\n",
        "with torch.no_grad():\n",
        "  for data in validation_loader1:\n",
        "    images, labels = data\n",
        "    outputs = MLP_network(images)\n",
        "    _, predicted = torch.max(outputs.data, 1)\n",
        "    total += labels.size(0)\n",
        "    correct += (predicted == labels).sum().item()\n",
        "print(f\"Accuracy: {100 * correct / total}\")"
      ],
      "metadata": {
        "colab": {
          "base_uri": "https://localhost:8080/"
        },
        "id": "0B2Q4LGe954Y",
        "outputId": "2ef72c81-ca09-46cb-ae76-6520daecbabc"
      },
      "execution_count": 28,
      "outputs": [
        {
          "output_type": "stream",
          "name": "stdout",
          "text": [
            "Accuracy: 87.2\n"
          ]
        }
      ]
    },
    {
      "cell_type": "code",
      "source": [
        "class_correct = list(0. for i in range(10))\n",
        "class_total = list(0. for i in range(10))\n",
        "with torch.no_grad():\n",
        "  for data in validation_loader1:\n",
        "    images, labels = data\n",
        "    outputs = MLP_network(images)\n",
        "    _, predicted = torch.max(outputs, 1)\n",
        "    c = (predicted == labels).squeeze()\n",
        "    for i in range(10):\n",
        "      label = labels[i]\n",
        "      class_correct[label] += c[i].item()\n",
        "      class_total[label] += 1\n",
        "\n",
        "for i in range(10):\n",
        "  print(f\"Accuracy of Class {labels_map[i]} : {100 * class_correct[i] / class_total[i]}\")\n",
        "\n"
      ],
      "metadata": {
        "colab": {
          "base_uri": "https://localhost:8080/"
        },
        "id": "4GHsc3SS7T5g",
        "outputId": "108d77f0-5fa0-4339-8db0-217a1468bb92"
      },
      "execution_count": 29,
      "outputs": [
        {
          "output_type": "stream",
          "name": "stdout",
          "text": [
            "Accuracy of Class T-Shirt : 71.671388101983\n",
            "Accuracy of Class Trouser : 96.33802816901408\n",
            "Accuracy of Class Pullover : 78.06788511749347\n",
            "Accuracy of Class Dress : 81.56424581005587\n",
            "Accuracy of Class Coat : 87.27272727272727\n",
            "Accuracy of Class Sandal : 96.52605459057072\n",
            "Accuracy of Class Shirt : 71.27659574468085\n",
            "Accuracy of Class Sneaker : 95.18716577540107\n",
            "Accuracy of Class Bag : 95.30386740331491\n",
            "Accuracy of Class Ankle Boot : 94.76309226932668\n"
          ]
        }
      ]
    },
    {
      "cell_type": "code",
      "source": [
        "plt.scatter([x+1 for x in range(20)], loss_f1)"
      ],
      "metadata": {
        "colab": {
          "base_uri": "https://localhost:8080/",
          "height": 447
        },
        "id": "nSl4lKv69n--",
        "outputId": "b3baff09-b6eb-4afb-84f7-90471d37f223"
      },
      "execution_count": 31,
      "outputs": [
        {
          "output_type": "execute_result",
          "data": {
            "text/plain": [
              "<matplotlib.collections.PathCollection at 0x7af2b014ab30>"
            ]
          },
          "metadata": {},
          "execution_count": 31
        },
        {
          "output_type": "display_data",
          "data": {
            "text/plain": [
              "<Figure size 640x480 with 1 Axes>"
            ],
            "image/png": "[encoded data removed]"
          },
          "metadata": {}
        }
      ]
    },
    {
      "cell_type": "code",
      "source": [],
      "metadata": {
        "id": "hMPfQx7e_9wF"
      },
      "execution_count": null,
      "outputs": []
    }
  ]
}